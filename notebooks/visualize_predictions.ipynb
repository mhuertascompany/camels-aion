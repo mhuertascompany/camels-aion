{
 "cells": [
  {
   "cell_type": "markdown",
   "metadata": {},
   "source": [
    "# CAMELS Parameter Inference Diagnostics\n",
    "\n",
    "This notebook visualises regression results by comparing predicted vs. target cosmological and astrophysical parameters."
   ]
  },
  {
   "cell_type": "code",
   "execution_count": null,
   "metadata": {},
   "outputs": [],
   "source": [
    "import pathlib\n",
    "\n",
    "import matplotlib.pyplot as plt\n",
    "import pandas as pd\n",
    "import seaborn as sns\n",
    "\n",
    "plt.style.use(\"seaborn-v0_8\")\n",
    "sns.set_context(\"talk\")"
   ]
  },
  {
   "cell_type": "code",
   "execution_count": null,
   "metadata": {},
   "outputs": [],
   "source": [
    "# Update this path if your CSV lives elsewhere\n",
    "csv_path = pathlib.Path(\"outputs/test_predictions.csv\").resolve()\n",
    "df = pd.read_csv(csv_path)\n",
    "df.head()"
   ]
  },
  {
   "cell_type": "code",
   "execution_count": null,
   "metadata": {},
   "outputs": [],
   "source": [
    "parameter_names = [\n",
    "    name.replace(\"target_\", \"\")\n",
    "    for name in df.columns\n",
    "    if name.startswith(\"target_\")\n",
    "]\n",
    "\n",
    "metrics = []\n",
    "for name in parameter_names:\n",
    "    target = df[f\"target_{name}\"]\n",
    "    pred = df[f\"pred_{name}\"]\n",
    "    mse = ((pred - target) ** 2).mean()\n",
    "    mae = (pred - target).abs().mean()\n",
    "    metrics.append({\"parameter\": name, \"mse\": mse, \"mae\": mae})\n",
    "\n",
    "pd.DataFrame(metrics)"
   ]
  },
  {
   "cell_type": "code",
   "execution_count": null,
   "metadata": {},
   "outputs": [],
   "source": [
    "n_params = len(parameter_names)\n",
    "n_cols = min(3, n_params)\n",
    "n_rows = (n_params + n_cols - 1) // n_cols\n",
    "fig, axes = plt.subplots(n_rows, n_cols, figsize=(6 * n_cols, 6 * n_rows), squeeze=False)\n",
    "\n",
    "for ax, name in zip(axes.flatten(), parameter_names):\n",
    "    target = df[f\"target_{name}\"]\n",
    "    pred = df[f\"pred_{name}\"]\n",
    "    sns.scatterplot(x=target, y=pred, ax=ax, s=20)\n",
    "    min_val = min(target.min(), pred.min())\n",
    "    max_val = max(target.max(), pred.max())\n",
    "    ax.plot([min_val, max_val], [min_val, max_val], \"--\", color=\"black\", linewidth=1)\n",
    "    ax.set_title(name)\n",
    "    ax.set_xlabel(\"Target\")\n",
    "    ax.set_ylabel(\"Prediction\")\n",
    "\n",
    "# Hide unused axes if parameter count is not a multiple of n_cols\n",
    "for ax in axes.flatten()[n_params:]:\n",
    "    ax.axis(\"off\")\n",
    "\n",
    "plt.tight_layout()\n",
    "plt.show()"
   ]
  }
 ],
 "metadata": {
  "kernelspec": {
   "display_name": "Python 3",
   "language": "python",
   "name": "python3"
  },
  "language_info": {
   "name": "python",
   "pygments_lexer": "ipython3"
  }
 },
 "nbformat": 4,
 "nbformat_minor": 5
}
