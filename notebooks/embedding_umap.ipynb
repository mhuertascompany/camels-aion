{
 "cells": [
  {
   "cell_type": "markdown",
   "metadata": {},
   "source": [
    "# UMAP Visualisation of AION Embeddings\n",
    "\n",
    "This notebook projects the saved CAMELS embeddings into two dimensions with UMAP and colours each point according to the target parameter values. Use it to diagnose how much signal the pretrained AION encoder is capturing.\n",
    "\n",
    "> **Note:** ensure the `umap-learn` package is available in your environment (`pip install umap-learn`)."
   ]
  },
  {
   "cell_type": "code",
   "execution_count": null,
   "metadata": {},
   "outputs": [],
   "source": [
    "import json\n",
    "import pathlib\n",
    "\n",
    "import matplotlib.pyplot as plt\n",
    "import numpy as np\n",
    "import seaborn as sns\n",
    "import torch\n",
    "import umap\n",
    "\n",
    "from camels_aion.data import CAMELS_FIELDS\n",
    "from scripts.train_parameter_head import PARAMETER_NAMES\n",
    "\n",
    "sns.set_context(\"talk\")"
   ]
  },
  {
   "cell_type": "markdown",
   "metadata": {},
   "source": [
    "## Configure paths\n",
    "\n",
    "Point the variables below to the directory containing your embedding shards and the corresponding manifest JSON. `MAX_POINTS` caps the number of samples for faster visualisation."
   ]
  },
  {
   "cell_type": "code",
   "execution_count": null,
   "metadata": {},
   "outputs": [],
   "source": [
    "SHARD_DIR = pathlib.Path(\"/lustre/fswork/projects/rech/oxl/utl47bv/data/camels_aion/embeddings/IllustrisTNG_LH\")\n",
    "MANIFEST_PATH = SHARD_DIR / \"IllustrisTNG_LH_z0p00_manifest.json\"\n",
    "MAX_POINTS = 5000  # adjust as needed"
   ]
  },
  {
   "cell_type": "code",
   "execution_count": null,
   "metadata": {},
   "outputs": [],
   "source": [
    "with open(MANIFEST_PATH, \"r\", encoding=\"utf-8\") as fh:\n",
    "    manifest = json.load(fh)\n",
    "\n",
    "shard_paths = [SHARD_DIR / name for name in manifest[\"shards\"]]\n",
    "len(shard_paths)"
   ]
  },
  {
   "cell_type": "markdown",
   "metadata": {},
   "source": [
    "## Load embeddings\n",
    "\n",
    "We reuse the same logic as in the training script: load each shard, average embeddings over the token dimension, and collect the labels. To avoid exhausting memory we stop once `MAX_POINTS` samples have been gathered."
   ]
  },
  {
   "cell_type": "code",
   "execution_count": null,
   "metadata": {},
   "outputs": [],
   "source": [
    "embeddings = []\n",
    "labels = []\n",
    "total = 0\n",
    "\n",
    "for shard in shard_paths:\n",
    "    payload = torch.load(shard, weights_only=False)\n",
    "    emb = payload[\"embeddings\"].float()\n",
    "    if emb.ndim == 3:\n",
    "        emb = emb.mean(dim=1)\n",
    "    lab = payload[\"labels\"].float()\n",
    "\n",
    "    embeddings.append(emb)\n",
    "    labels.append(lab)\n",
    "    total += emb.shape[0]\n",
    "    if total >= MAX_POINTS:\n",
    "        break\n",
    "\n",
    "embeddings = torch.cat(embeddings, dim=0)[:MAX_POINTS]\n",
    "labels = torch.cat(labels, dim=0)[:MAX_POINTS]\n",
    "\n",
    "embeddings.shape, labels.shape"
   ]
  },
  {
   "cell_type": "markdown",
   "metadata": {},
   "source": [
    "## UMAP projection"
   ]
  },
  {
   "cell_type": "code",
   "execution_count": null,
   "metadata": {},
   "outputs": [],
   "source": [
    "reducer = umap.UMAP(n_neighbors=30, min_dist=0.2, metric=\"cosine\", random_state=42)\n",
    "embedding_2d = reducer.fit_transform(embeddings.numpy())\n",
    "embedding_2d.shape"
   ]
  },
  {
   "cell_type": "markdown",
   "metadata": {},
   "source": [
    "## Scatter plots coloured by parameter value"
   ]
  },
  {
   "cell_type": "code",
   "execution_count": null,
   "metadata": {},
   "outputs": [],
   "source": [
    "fig, axes = plt.subplots(2, 3, figsize=(18, 10))\n",
    "axes = axes.flatten()\n",
    "\n",
    "for ax, name in zip(axes, PARAMETER_NAMES):\n",
    "    sns.scatterplot(\n",
    "        x=embedding_2d[:, 0],\n",
    "        y=embedding_2d[:, 1],\n",
    "        hue=labels[:, PARAMETER_NAMES.index(name)].numpy(),\n",
    "        palette=\"viridis\",\n",
    "        s=10,\n",
    "        linewidth=0,\n",
    "        ax=ax,\n",
    "    )\n",
    "    ax.set_title(name)\n",
    "    ax.set_xlabel(\"UMAP-1\")\n",
    "    ax.set_ylabel(\"UMAP-2\")\n",
    "    ax.legend(title=name, loc=\"upper right\", bbox_to_anchor=(1.25, 1))\n",
    "\n",
    "plt.tight_layout()\n",
    "plt.show()"
   ]
  }
 ],
 "metadata": {
  "kernelspec": {
   "display_name": "Python 3",
   "language": "python",
   "name": "python3"
  },
  "language_info": {
   "name": "python",
   "pygments_lexer": "ipython3"
  }
 },
 "nbformat": 4,
 "nbformat_minor": 5
}
